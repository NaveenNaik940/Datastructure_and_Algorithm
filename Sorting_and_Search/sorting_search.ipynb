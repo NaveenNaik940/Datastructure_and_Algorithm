{
 "cells": [
  {
   "cell_type": "markdown",
   "metadata": {},
   "source": [
    "'''\n",
    "\n",
    "@Author:Naveen Madev Naik<br>\n",
    "@Date: 2024-08-14<br>\n",
    "@Last Modified by: Naveen Madev Naik<br>\n",
    "@Last Modified time: 2024-08-14<br>\n",
    "@Title :Python programs on Sorting and Searching Algorithm<br>\n",
    "\n",
    "'''"
   ]
  },
  {
   "cell_type": "code",
   "execution_count": 2,
   "metadata": {},
   "outputs": [],
   "source": [
    "import random"
   ]
  },
  {
   "cell_type": "markdown",
   "metadata": {},
   "source": [
    "# Sorting Algorithm"
   ]
  },
  {
   "cell_type": "markdown",
   "metadata": {},
   "source": [
    "1.Selection Sort"
   ]
  },
  {
   "cell_type": "code",
   "execution_count": 30,
   "metadata": {},
   "outputs": [
    {
     "name": "stdout",
     "output_type": "stream",
     "text": [
      "Unsorted List:  [-3, -15, 8, -1, 14, -1, 0]\n",
      "sorted List:  [-15, -3, -1, -1, 0, 8, 14]\n"
     ]
    }
   ],
   "source": [
    "def selection_sort(unsorted_list):\n",
    "\n",
    "    \"\"\"\n",
    "    Description:\n",
    "        Function will take unsorted list and will sort using selection sort algorithm\n",
    "\n",
    "    Parameter:\n",
    "        unsorted_list(list):unsorted list to be sorted\n",
    "\n",
    "    Return:\n",
    "        list        \n",
    "    \"\"\"\n",
    "    \n",
    "    for index1 in range(len(unsorted_list)-1):\n",
    "        min_num=unsorted_list[index1]\n",
    "        index=index1\n",
    "        for index2 in range(index1+1,len(unsorted_list)):\n",
    "            if min_num>unsorted_list[index2]:\n",
    "                min_num=unsorted_list[index2]\n",
    "                index=index2\n",
    "        unsorted_list[index1],unsorted_list[index]=min_num,unsorted_list[index1]\n",
    "\n",
    "    return unsorted_list  \n",
    "\n",
    "\n",
    "def main():\n",
    "    try:\n",
    "        list_length=int(input(\"enter list length: \"))\n",
    "        unsorted_list=[]\n",
    "        for index in range(list_length):\n",
    "            unsorted_list.append(random.randint(-20,20))\n",
    "        \n",
    "        print(\"Unsorted List: \",unsorted_list)\n",
    "\n",
    "        sorted_list=selection_sort(unsorted_list)\n",
    "        print(\"sorted List: \",sorted_list)\n",
    "\n",
    "    except Exception as e:\n",
    "        print(e)    \n",
    "\n",
    "\n",
    "if __name__==\"__main__\":\n",
    "    main()"
   ]
  },
  {
   "cell_type": "markdown",
   "metadata": {},
   "source": [
    "2.Bubble Sort"
   ]
  },
  {
   "cell_type": "code",
   "execution_count": 36,
   "metadata": {},
   "outputs": [
    {
     "name": "stdout",
     "output_type": "stream",
     "text": [
      "Unsorted List:  [-14, 20, 4, 16, 15, -6, 7]\n",
      "sorted List:  [-14, -6, 4, 7, 15, 16, 20]\n"
     ]
    }
   ],
   "source": [
    "def bubble_sort(unsorted_list):\n",
    "\n",
    "    \"\"\"\n",
    "    Description:\n",
    "        Function will take unsorted list and will sort using bubble sort algorithm\n",
    "\n",
    "    Parameter:\n",
    "        unsorted_list(list):unsorted list to be sorted\n",
    "\n",
    "    Return:\n",
    "        list        \n",
    "    \"\"\"\n",
    "    \n",
    "    isSorted=False\n",
    "    for index1 in range(len(unsorted_list)-1):\n",
    "        for index2 in range(len(unsorted_list)-1-index1):\n",
    "            if unsorted_list[index2]>unsorted_list[index2+1]:\n",
    "                isSorted=True\n",
    "                unsorted_list[index2],unsorted_list[index2+1]=unsorted_list[index2+1],unsorted_list[index2]\n",
    "        if isSorted==False:\n",
    "            print(\"already sorted\")\n",
    "            return unsorted_list\n",
    "    \n",
    "    return unsorted_list  \n",
    "\n",
    "\n",
    "def main():\n",
    "    try:\n",
    "        list_length=int(input(\"enter list length: \"))\n",
    "        unsorted_list=[]\n",
    "        for index in range(list_length):\n",
    "            unsorted_list.append(random.randint(-20,20))\n",
    "        \n",
    "        print(\"Unsorted List: \",unsorted_list)\n",
    "\n",
    "        sorted_list=bubble_sort(unsorted_list)\n",
    "        print(\"sorted List: \",sorted_list)\n",
    "\n",
    "    except Exception as e:\n",
    "        print(e)    \n",
    "\n",
    "\n",
    "if __name__==\"__main__\":\n",
    "    main()"
   ]
  },
  {
   "cell_type": "markdown",
   "metadata": {},
   "source": [
    "3.Merge Sort"
   ]
  },
  {
   "cell_type": "code",
   "execution_count": 47,
   "metadata": {},
   "outputs": [
    {
     "name": "stdout",
     "output_type": "stream",
     "text": [
      "Unsorted List:  [3, -8, 3, 6, 10, -5, 12, -17]\n",
      "sorted List:  [-17, -8, -5, 3, 3, 6, 10, 12]\n"
     ]
    }
   ],
   "source": [
    "def merge_sort(unsorted_list):\n",
    "\n",
    "    \"\"\"\n",
    "    Description:\n",
    "        Function will take unsorted list and will sort using merge sort algorithm\n",
    "\n",
    "    Parameter:\n",
    "        unsorted_list(list):unsorted list to be sorted\n",
    "\n",
    "    Return:\n",
    "        list        \n",
    "    \"\"\"\n",
    "\n",
    "    if len(unsorted_list)<=1:\n",
    "        return unsorted_list\n",
    "    \n",
    "    mid=len(unsorted_list)//2\n",
    "\n",
    "    leftHalf=unsorted_list[:mid]\n",
    "    rightHalf=unsorted_list[mid:]\n",
    "\n",
    "    sortedLeft=merge_sort(leftHalf)\n",
    "    sortedRight=merge_sort(rightHalf)\n",
    "\n",
    "    return merge(sortedLeft,sortedRight)\n",
    "\n",
    "\n",
    "def merge(leftList,rightList):\n",
    "\n",
    "    \"\"\"\n",
    "    Description:\n",
    "        This function will take two array and merges that array by comparing \n",
    "\n",
    "    Parameter:\n",
    "        leftArray:left side of the original diveded list\n",
    "        rightArray:right side of the original divided list\n",
    "\n",
    "    Return:\n",
    "        list\n",
    "    \"\"\"\n",
    "\n",
    "    result=[]\n",
    "    left_index,right_index=0,0\n",
    "\n",
    "    while left_index<len(leftList) and right_index<len(rightList):\n",
    "\n",
    "        if leftList[left_index]<=rightList[right_index]:\n",
    "            result.append(leftList[left_index])\n",
    "            left_index+=1\n",
    "        else:\n",
    "            result.append(rightList[right_index])\n",
    "            right_index+=1\n",
    "\n",
    "    result.extend(leftList[left_index:])\n",
    "    result.extend(rightList[right_index:])\n",
    "\n",
    "    return result    \n",
    "\n",
    "def main():\n",
    "    try:\n",
    "        list_length=int(input(\"enter list length: \"))\n",
    "        unsorted_list=[]\n",
    "        for index in range(list_length):\n",
    "            unsorted_list.append(random.randint(-20,20))\n",
    "        \n",
    "        print(\"Unsorted List: \",unsorted_list)\n",
    "\n",
    "        sorted_list=merge_sort(unsorted_list)\n",
    "        print(\"sorted List: \",sorted_list)\n",
    "\n",
    "    except Exception as e:\n",
    "        print(e)    \n",
    "\n",
    "\n",
    "if __name__==\"__main__\":\n",
    "    main()"
   ]
  },
  {
   "cell_type": "markdown",
   "metadata": {},
   "source": [
    "4.Quick Sort"
   ]
  },
  {
   "cell_type": "code",
   "execution_count": 52,
   "metadata": {},
   "outputs": [
    {
     "name": "stdout",
     "output_type": "stream",
     "text": [
      "Unsorted List:  [2, 18, 17, 11, 2, -6, -6, -5, -17, -8, 7, 4, -11, -3, -20]\n",
      "sorted List:  [-20, -17, -11, -8, -6, -6, -5, -3, 2, 2, 4, 7, 11, 17, 18]\n"
     ]
    }
   ],
   "source": [
    "def quick_sort(unsorted_list,low, high):\n",
    "\n",
    "    \"\"\"\n",
    "    Description:\n",
    "        Function will take unsorted list and will sort using quick sort algorithm\n",
    "\n",
    "    Parameter:\n",
    "        unsorted_list(list):unsorted list to be sorted\n",
    "        low(int):list lower index\n",
    "        high(int):list higher index\n",
    "\n",
    "    Return:\n",
    "        list        \n",
    "    \"\"\"\n",
    "\n",
    "    if low<high:\n",
    "        pivot_index=partition(unsorted_list,low,high)\n",
    "\n",
    "        quick_sort(unsorted_list,low,pivot_index-1)\n",
    "        quick_sort(unsorted_list,pivot_index+1,high)\n",
    "    return\n",
    "\n",
    "\n",
    "def partition(unsorted_list,low,high):\n",
    "\n",
    "    \"\"\"\n",
    "    Description:\n",
    "        Function will moves pivot element to its correct position and find its position\n",
    "\n",
    "    Parameter:\n",
    "        unsortedd_list:list will be sorted \n",
    "        low:lower index of the unsorted_list\n",
    "        high:higher index of the unsorted_list\n",
    "\n",
    "    Return:\n",
    "        int\n",
    "    \"\"\"\n",
    "    \n",
    "    pivot=unsorted_list[high]\n",
    "    index1=low\n",
    "\n",
    "    for index2 in range(low,high):\n",
    "        if unsorted_list[index2]<pivot:\n",
    "            unsorted_list[index1],unsorted_list[index2]=unsorted_list[index2],unsorted_list[index1]\n",
    "            index1+=1\n",
    "\n",
    "    unsorted_list[index1],unsorted_list[high]=unsorted_list[high],unsorted_list[index1]\n",
    "\n",
    "    return index1\n",
    "\n",
    "\n",
    "def main():\n",
    "    try:\n",
    "        list_length=int(input(\"enter list length: \"))\n",
    "        unsorted_list=[]\n",
    "        for index in range(list_length):\n",
    "            unsorted_list.append(random.randint(-20,20))\n",
    "        \n",
    "        print(\"Unsorted List: \",unsorted_list)\n",
    "\n",
    "        quick_sort(unsorted_list,0,len(unsorted_list)-1)\n",
    "        print(\"sorted List: \",unsorted_list)\n",
    "\n",
    "    except Exception as e:\n",
    "        print(e)    \n",
    "\n",
    "\n",
    "if __name__==\"__main__\":\n",
    "    main()"
   ]
  },
  {
   "cell_type": "markdown",
   "metadata": {},
   "source": [
    "# Search Algorithm"
   ]
  },
  {
   "cell_type": "markdown",
   "metadata": {},
   "source": [
    "1.Binary Search"
   ]
  },
  {
   "cell_type": "code",
   "execution_count": 11,
   "metadata": {},
   "outputs": [
    {
     "name": "stdout",
     "output_type": "stream",
     "text": [
      "Given List:  [6, 7, 7, 10, 12, 17, 19]\n",
      "11 does not exist in list [6, 7, 7, 10, 12, 17, 19]\n"
     ]
    }
   ],
   "source": [
    "def binary_search(given_list,element):\n",
    "\n",
    "    \"\"\"\n",
    "    Description:\n",
    "        Function will search element in given list and returns its index\n",
    "\n",
    "    Parameter:\n",
    "        given_list: list in which we need to search given element\n",
    "        element:element need to be searched in given list\n",
    "\n",
    "    Return:\n",
    "        int       \n",
    "    \"\"\"\n",
    "\n",
    "    low=0\n",
    "    high=len(given_list)-1\n",
    "    mid=0\n",
    "\n",
    "    while low<=high:\n",
    "        mid=(high+low)//2\n",
    "        if given_list[mid]<element:\n",
    "            low=mid+1\n",
    "        \n",
    "        elif given_list[mid]>element:\n",
    "            high=mid-1\n",
    "\n",
    "        else:\n",
    "            return mid\n",
    "\n",
    "    return -1        \n",
    "\n",
    "\n",
    "def main():\n",
    "    try:\n",
    "        list_length=int(input(\"enter list length: \"))\n",
    "        unsorted_list=[]\n",
    "        for index in range(list_length):\n",
    "            unsorted_list.append(random.randint(1,20))\n",
    "        \n",
    "        sorted_list=sorted(unsorted_list)\n",
    "\n",
    "        print(\"Given List: \",sorted_list)\n",
    "\n",
    "        element=random.randint(1,20)\n",
    "        found_index=binary_search(sorted_list,element)\n",
    "        if found_index!=-1:\n",
    "            print(f\"{element} is found at {found_index} index in a list {sorted_list}\")\n",
    "        else:\n",
    "            print(f\"{element} does not exist in list {sorted_list}\")    \n",
    "\n",
    "    except Exception as e:\n",
    "        print(e)    \n",
    "\n",
    "\n",
    "if __name__==\"__main__\":\n",
    "    main()"
   ]
  },
  {
   "cell_type": "markdown",
   "metadata": {},
   "source": [
    "2.Breadth First Search"
   ]
  },
  {
   "cell_type": "code",
   "execution_count": 12,
   "metadata": {},
   "outputs": [
    {
     "name": "stdout",
     "output_type": "stream",
     "text": [
      "A B C D E F "
     ]
    }
   ],
   "source": [
    "def bfs(graph, start_node):\n",
    "    \"\"\"\n",
    "    Description:\n",
    "        Function will prints the nodes in the order they are visited using BFS\n",
    "\n",
    "    Parameter:\n",
    "        graph: dictionary containing nodes its connected roots\n",
    "        start_node:start node of the graph\n",
    "\n",
    "    Return:\n",
    "        None\n",
    "    \"\"\"\n",
    "\n",
    "    queue = [start_node]\n",
    "    visited = set([start_node])\n",
    "    \n",
    "    while queue:\n",
    "        \n",
    "        current_node = queue.pop(0)\n",
    "\n",
    "        print(current_node, end=' ')\n",
    " \n",
    "        for neighbor in graph[current_node]:\n",
    "            if neighbor not in visited:\n",
    "                queue.append(neighbor)\n",
    "                visited.add(neighbor)\n",
    "       \n",
    "\n",
    "def main():\n",
    "    try:\n",
    "        graph = {\n",
    "            'A': ['B', 'C'],\n",
    "            'B': ['D', 'E'],\n",
    "            'C': ['F'],\n",
    "            'D': [],\n",
    "            'E': ['F'],\n",
    "            'F': []\n",
    "        }\n",
    "\n",
    "        bfs(graph, 'A')   \n",
    "\n",
    "    except Exception as e:\n",
    "        print(e)    \n",
    "\n",
    "\n",
    "if __name__==\"__main__\":\n",
    "    main()"
   ]
  },
  {
   "cell_type": "markdown",
   "metadata": {},
   "source": [
    "3.Depth First Search"
   ]
  },
  {
   "cell_type": "code",
   "execution_count": 13,
   "metadata": {},
   "outputs": [
    {
     "name": "stdout",
     "output_type": "stream",
     "text": [
      "A C F B E D "
     ]
    }
   ],
   "source": [
    "def dfs(graph, start_node):\n",
    "    \"\"\"\n",
    "    Description:\n",
    "        Function will prints the nodes in the order they are visited using DFS\n",
    "\n",
    "    Parameter:\n",
    "        graph: dictionary containing nodes its connected roots\n",
    "        start_node:start node of the graph\n",
    "\n",
    "    Return:\n",
    "        None\n",
    "    \"\"\"\n",
    "\n",
    "    stack = [start_node]\n",
    "    visited = set()\n",
    "        \n",
    "    while stack:\n",
    "        current_node = stack.pop()\n",
    "        \n",
    "        if current_node not in visited:\n",
    "\n",
    "            print(current_node, end=' ')\n",
    "            visited.add(current_node)\n",
    "\n",
    "            for neighbor in graph[current_node]:\n",
    "                if neighbor not in visited:\n",
    "                    stack.append(neighbor)\n",
    "       \n",
    "\n",
    "def main():\n",
    "    try:\n",
    "        graph = {\n",
    "                    'A': ['B', 'C'],\n",
    "                    'B': ['D', 'E'],\n",
    "                    'C': ['F'],\n",
    "                    'D': [],\n",
    "                    'E': ['F'],\n",
    "                    'F': []\n",
    "                }\n",
    "\n",
    "        dfs(graph, 'A')   \n",
    "\n",
    "    except Exception as e:\n",
    "        print(e)    \n",
    "\n",
    "\n",
    "if __name__==\"__main__\":\n",
    "    main()"
   ]
  }
 ],
 "metadata": {
  "kernelspec": {
   "display_name": "Python 3",
   "language": "python",
   "name": "python3"
  },
  "language_info": {
   "codemirror_mode": {
    "name": "ipython",
    "version": 3
   },
   "file_extension": ".py",
   "mimetype": "text/x-python",
   "name": "python",
   "nbconvert_exporter": "python",
   "pygments_lexer": "ipython3",
   "version": "3.9.13"
  }
 },
 "nbformat": 4,
 "nbformat_minor": 2
}
