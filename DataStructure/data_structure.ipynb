{
 "cells": [
  {
   "cell_type": "markdown",
   "metadata": {},
   "source": [
    "'''\n",
    "\n",
    "@Author:Naveen Madev Naik<br>\n",
    "@Date: 2024-08-14<br>\n",
    "@Last Modified by: Naveen Madev Naik<br>\n",
    "@Last Modified time: 2024-08-14<br>\n",
    "@Title :python program on Data Structure<br>\n",
    "\n",
    "'''"
   ]
  },
  {
   "cell_type": "code",
   "execution_count": 11,
   "metadata": {},
   "outputs": [],
   "source": [
    "from collections import deque"
   ]
  },
  {
   "cell_type": "markdown",
   "metadata": {},
   "source": [
    "# Stack"
   ]
  },
  {
   "cell_type": "markdown",
   "metadata": {},
   "source": [
    "1.Implementation of Stack problem"
   ]
  },
  {
   "cell_type": "code",
   "execution_count": 1,
   "metadata": {},
   "outputs": [
    {
     "name": "stdout",
     "output_type": "stream",
     "text": [
      "Stack:  ['A', 'B', 'C']\n",
      "Pop:  C\n",
      "Peek:  B\n",
      "isEmpty:  False\n",
      "Size:  2\n"
     ]
    }
   ],
   "source": [
    "class Stack:\n",
    "    def __init__(self):\n",
    "        self.stack = []\n",
    "    \n",
    "    def push(self, element):\n",
    "\n",
    "        \"\"\"\n",
    "        Description:\n",
    "            Function takes the element and adds it to the stack\n",
    "\n",
    "        Parameter:\n",
    "            self:instance of the class\n",
    "            element:element needs to be added in stack\n",
    "\n",
    "        Return:\n",
    "            None       \n",
    "        \"\"\"\n",
    "        \n",
    "        self.stack.append(element)\n",
    "    \n",
    "    def pop(self):\n",
    "\n",
    "        \"\"\"\n",
    "        Description:\n",
    "            Function will remove the element from stack\n",
    "\n",
    "        Parameter:\n",
    "            self:instance of the class\n",
    "\n",
    "        Return:\n",
    "            int      \n",
    "        \"\"\"\n",
    "\n",
    "        if self.isEmpty():\n",
    "            return \"Stack is empty\"\n",
    "        return self.stack.pop()\n",
    "    \n",
    "\n",
    "    def peek(self):\n",
    "\n",
    "        \"\"\"\n",
    "        Description:\n",
    "            Function will show the last element in the stack\n",
    "\n",
    "        Parameter:\n",
    "            self:instance of the class\n",
    "\n",
    "        Return:\n",
    "            int      \n",
    "        \"\"\"   \n",
    "\n",
    "        if self.isEmpty():\n",
    "            return \"Stack is empty\"\n",
    "        return self.stack[-1]\n",
    "    \n",
    "\n",
    "    def isEmpty(self):\n",
    "\n",
    "        \"\"\"\n",
    "        Description:\n",
    "            Function will return the boolean expression by checking stack length\n",
    "\n",
    "        Parameter:\n",
    "            self:instance of the class\n",
    "\n",
    "        Return:\n",
    "            boolean      \n",
    "        \"\"\"\n",
    "        \n",
    "        return len(self.stack) == 0\n",
    "    \n",
    "    def size(self):\n",
    "\n",
    "        \"\"\"\n",
    "        Description:\n",
    "            Function will return the length of stack\n",
    "\n",
    "        Parameter:\n",
    "            self:instance of the class\n",
    "\n",
    "        Return:\n",
    "            int      \n",
    "        \"\"\"    \n",
    "        return len(self.stack)\n",
    "\n",
    "\n",
    "\n",
    "\n",
    "def main():\n",
    "    try:\n",
    "        myStack = Stack()\n",
    "\n",
    "        myStack.push('A')\n",
    "        myStack.push('B')\n",
    "        myStack.push('C')\n",
    "        print(\"Stack: \", myStack.stack)\n",
    "\n",
    "        print(\"Pop: \", myStack.pop())\n",
    "\n",
    "        print(\"Peek: \", myStack.peek())\n",
    "\n",
    "        print(\"isEmpty: \", myStack.isEmpty())\n",
    "\n",
    "        print(\"Size: \", myStack.size())\n",
    "\n",
    "    except Exception as e:\n",
    "        print(e)    \n",
    "\n",
    "\n",
    "if __name__==\"__main__\":\n",
    "    main()"
   ]
  },
  {
   "cell_type": "markdown",
   "metadata": {},
   "source": [
    "2.program to check given string has balanced parnathesis"
   ]
  },
  {
   "cell_type": "code",
   "execution_count": 2,
   "metadata": {},
   "outputs": [
    {
     "name": "stdout",
     "output_type": "stream",
     "text": [
      "True\n",
      "True\n",
      "False\n",
      "False\n",
      "True\n"
     ]
    }
   ],
   "source": [
    "def is_balanced(given_string):\n",
    "\n",
    "    \"\"\"\n",
    "    Description:\n",
    "        Function will check whether given string has balanced paranthesis\n",
    "\n",
    "    Parameter:\n",
    "        given_string:string that contains paranthesis\n",
    "\n",
    "    Return:\n",
    "        Boolean   \n",
    "    \"\"\"\n",
    "    \n",
    "    stack = []\n",
    "    matching_bracket = {')': '(', '}': '{', ']': '['}\n",
    "    \n",
    "    for char in given_string:\n",
    "        if char in matching_bracket.values():\n",
    "            stack.append(char)\n",
    "        elif char in matching_bracket.keys():\n",
    "            if not stack or matching_bracket[char] != stack.pop():\n",
    "                return False\n",
    "        else:\n",
    "            continue\n",
    "    \n",
    "    return not stack\n",
    "\n",
    "def main():\n",
    "    try:\n",
    "        print(is_balanced(\"()\"))      \n",
    "        print(is_balanced(\"()[]{}\"))   \n",
    "        print(is_balanced(\"(]\"))       \n",
    "        print(is_balanced(\"([)]\"))     \n",
    "        print(is_balanced(\"{[]}\"))     \n",
    "\n",
    "    except Exception as e:\n",
    "        print(e)    \n",
    "\n",
    "\n",
    "if __name__==\"__main__\":\n",
    "    main()"
   ]
  },
  {
   "cell_type": "markdown",
   "metadata": {},
   "source": [
    "# Queue"
   ]
  },
  {
   "cell_type": "markdown",
   "metadata": {},
   "source": [
    "1.Reverse a Queue"
   ]
  },
  {
   "cell_type": "code",
   "execution_count": 15,
   "metadata": {},
   "outputs": [
    {
     "name": "stdout",
     "output_type": "stream",
     "text": [
      "Original queue:  [1, 2, 3, 4, 5]\n",
      "After reversing the queue [5, 4, 3, 2, 1]\n"
     ]
    }
   ],
   "source": [
    "def reverse_queue(queue):\n",
    "\n",
    "    \"\"\"\n",
    "    Description:\n",
    "        Function to reverse the order of elements in a queue.\n",
    "\n",
    "    Parameter:\n",
    "        queue (deque): A queue of integers.\n",
    "\n",
    "    Return:\n",
    "        deque: A queue with elements in reversed order.\n",
    "    \"\"\"\n",
    "    \n",
    "    stack = []\n",
    "    \n",
    "    while queue:\n",
    "        stack.append(queue.popleft())\n",
    "\n",
    "    while stack:\n",
    "        queue.append(stack.pop())\n",
    "    \n",
    "    return queue\n",
    "\n",
    "def main():\n",
    "    \n",
    "    try:\n",
    "        queue = deque([1, 2, 3, 4, 5])\n",
    "        print(\"Original queue: \",list(queue))\n",
    "        reversed_queue = reverse_queue(queue)\n",
    "        print(\"After reversing the queue\",list(reversed_queue)) \n",
    "\n",
    "    except Exception as e:\n",
    "        print(e)    \n",
    "\n",
    "if __name__ == \"__main__\":\n",
    "    main()\n"
   ]
  },
  {
   "cell_type": "markdown",
   "metadata": {},
   "source": [
    "2.Python program to implement a queue using two stacks"
   ]
  },
  {
   "cell_type": "code",
   "execution_count": 14,
   "metadata": {},
   "outputs": [
    {
     "name": "stdout",
     "output_type": "stream",
     "text": [
      "1\n",
      "2\n",
      "3\n",
      "4\n"
     ]
    }
   ],
   "source": [
    "class QueueUsingStacks:\n",
    "\n",
    "    def __init__(self):\n",
    "        self.stack_in = []\n",
    "        self.stack_out = []\n",
    "\n",
    "    def enqueue(self, x):\n",
    "\n",
    "        \"\"\"\n",
    "        Description:\n",
    "            Add element x to the end of the queue.\n",
    "\n",
    "        Parameter:\n",
    "            x (int): Element to be added to the queue.\n",
    "\n",
    "        Return:\n",
    "            None\n",
    "        \"\"\"\n",
    "\n",
    "        self.stack_in.append(x)\n",
    "\n",
    "\n",
    "    def dequeue(self):\n",
    "\n",
    "        \"\"\"\n",
    "        Description:\n",
    "            Remove and return the element from the front of the queue.\n",
    "\n",
    "        Parameter:\n",
    "            self:instance of the class\n",
    "            \n",
    "        Return:\n",
    "            int: The element removed from the front of the queue.\n",
    "        \"\"\"\n",
    "        \n",
    "        if not self.stack_out:\n",
    "            while self.stack_in:\n",
    "                self.stack_out.append(self.stack_in.pop())\n",
    "        \n",
    "        if self.stack_out:\n",
    "            return self.stack_out.pop()\n",
    "        else:\n",
    "            raise IndexError(\"Dequeue from an empty queue\")\n",
    "\n",
    "def main():\n",
    "\n",
    "    try:\n",
    "        queue = QueueUsingStacks()\n",
    "        queue.enqueue(1)\n",
    "        queue.enqueue(2)\n",
    "        queue.enqueue(3)\n",
    "        print(queue.dequeue())  \n",
    "        print(queue.dequeue())  \n",
    "        queue.enqueue(4)\n",
    "        print(queue.dequeue()) \n",
    "        print(queue.dequeue()) \n",
    "    \n",
    "    except Exception as e:\n",
    "        print(e)    \n",
    "\n",
    "if __name__ == \"__main__\":\n",
    "    main()\n"
   ]
  },
  {
   "cell_type": "markdown",
   "metadata": {},
   "source": [
    "# Binary Tree"
   ]
  },
  {
   "cell_type": "markdown",
   "metadata": {},
   "source": [
    "1.write python code for inorder binary tree traversal"
   ]
  },
  {
   "cell_type": "code",
   "execution_count": 16,
   "metadata": {},
   "outputs": [
    {
     "name": "stdout",
     "output_type": "stream",
     "text": [
      "[1, 3, 2]\n"
     ]
    }
   ],
   "source": [
    "class TreeNode:\n",
    "    def __init__(self, val=0, left=None, right=None):\n",
    "        self.val = val\n",
    "        self.left = left\n",
    "        self.right = right\n",
    "\n",
    "def inorder_traversal(root):\n",
    "\n",
    "    \"\"\"\n",
    "    Description:\n",
    "        Function to perform inorder traversal of a binary tree.\n",
    "\n",
    "    Parameters:\n",
    "        root (TreeNode): The root of the binary tree.\n",
    "\n",
    "    Return:\n",
    "        list of int: Inorder traversal of the binary tree.\n",
    "    \"\"\"\n",
    "    \n",
    "    result = []\n",
    "    stack = []\n",
    "    current = root\n",
    "    \n",
    "    while stack or current:\n",
    "        while current:\n",
    "            stack.append(current)\n",
    "            current = current.left\n",
    "        current = stack.pop()\n",
    "        result.append(current.val)\n",
    "        current = current.right\n",
    "    \n",
    "    return result\n",
    "\n",
    "def main():\n",
    "    try:\n",
    "        root = TreeNode(1)\n",
    "        root.right = TreeNode(2)\n",
    "        root.right.left = TreeNode(3)\n",
    "\n",
    "        print(inorder_traversal(root))  \n",
    "\n",
    "    except Exception as e:\n",
    "        print(e)    \n",
    "\n",
    "if __name__ == \"__main__\":\n",
    "    main()\n"
   ]
  },
  {
   "cell_type": "markdown",
   "metadata": {},
   "source": [
    "2.Write a program to find the maximum depth of binary tree"
   ]
  },
  {
   "cell_type": "code",
   "execution_count": 17,
   "metadata": {},
   "outputs": [
    {
     "name": "stdout",
     "output_type": "stream",
     "text": [
      "3\n"
     ]
    }
   ],
   "source": [
    "class TreeNode:\n",
    "    def __init__(self, val=0, left=None, right=None):\n",
    "        self.val = val\n",
    "        self.left = left\n",
    "        self.right = right\n",
    "\n",
    "def max_depth(root):\n",
    "\n",
    "    \"\"\"\n",
    "    Description:\n",
    "        Function to find the maximum depth of a binary tree.\n",
    "\n",
    "    Parameters:\n",
    "        root (TreeNode): The root of the binary tree.\n",
    "\n",
    "    Returns:\n",
    "        int: The maximum depth of the binary tree.\n",
    "    \"\"\"\n",
    "\n",
    "    if not root:\n",
    "        return 0\n",
    "    left_depth = max_depth(root.left)\n",
    "    right_depth = max_depth(root.right)\n",
    "    return 1 + max(left_depth, right_depth)\n",
    "\n",
    "\n",
    "def main():\n",
    "    try:\n",
    "        root = TreeNode(3)\n",
    "        root.left = TreeNode(9)\n",
    "        root.right = TreeNode(20, TreeNode(15), TreeNode(7))\n",
    "        \n",
    "        print(max_depth(root)) \n",
    "\n",
    "    except Exception as e:\n",
    "        print(e)    \n",
    "\n",
    "if __name__ == \"__main__\":\n",
    "    main()\n"
   ]
  }
 ],
 "metadata": {
  "kernelspec": {
   "display_name": "base",
   "language": "python",
   "name": "python3"
  },
  "language_info": {
   "codemirror_mode": {
    "name": "ipython",
    "version": 3
   },
   "file_extension": ".py",
   "mimetype": "text/x-python",
   "name": "python",
   "nbconvert_exporter": "python",
   "pygments_lexer": "ipython3",
   "version": "3.9.13"
  }
 },
 "nbformat": 4,
 "nbformat_minor": 2
}
